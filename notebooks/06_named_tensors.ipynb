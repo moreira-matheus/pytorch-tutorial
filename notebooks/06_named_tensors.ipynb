{
 "cells": [
  {
   "cell_type": "code",
   "execution_count": 1,
   "metadata": {},
   "outputs": [],
   "source": [
    "import torch"
   ]
  },
  {
   "cell_type": "code",
   "execution_count": 2,
   "metadata": {},
   "outputs": [
    {
     "name": "stdout",
     "output_type": "stream",
     "text": [
      "tensor([[0., 0., 0.],\n",
      "        [0., 0., 0.]])\n"
     ]
    }
   ],
   "source": [
    "a = torch.zeros(2, 3)\n",
    "print(a)"
   ]
  },
  {
   "cell_type": "code",
   "execution_count": 3,
   "metadata": {},
   "outputs": [
    {
     "data": {
      "text/plain": [
       "torch.Tensor"
      ]
     },
     "execution_count": 3,
     "metadata": {},
     "output_type": "execute_result"
    }
   ],
   "source": [
    "type(a)"
   ]
  },
  {
   "cell_type": "code",
   "execution_count": 4,
   "metadata": {},
   "outputs": [
    {
     "data": {
      "text/plain": [
       "torch.Size([2, 3])"
      ]
     },
     "execution_count": 4,
     "metadata": {},
     "output_type": "execute_result"
    }
   ],
   "source": [
    "a.size()"
   ]
  },
  {
   "cell_type": "code",
   "execution_count": 5,
   "metadata": {},
   "outputs": [
    {
     "data": {
      "text/plain": [
       "2"
      ]
     },
     "execution_count": 5,
     "metadata": {},
     "output_type": "execute_result"
    }
   ],
   "source": [
    "a.dim()"
   ]
  },
  {
   "cell_type": "code",
   "execution_count": 6,
   "metadata": {},
   "outputs": [
    {
     "name": "stdout",
     "output_type": "stream",
     "text": [
      "tensor([[0., 0., 0.],\n",
      "        [0., 0., 0.]], names=('Rows', 'Cols'))\n"
     ]
    },
    {
     "name": "stderr",
     "output_type": "stream",
     "text": [
      "<ipython-input-6-8d4b097616cd>:1: UserWarning: Named tensors and all their associated APIs are an experimental feature and subject to change. Please do not use them for anything important until they are released as stable. (Triggered internally at  /pytorch/c10/core/TensorImpl.h:848.)\n",
      "  n = torch.zeros(2, 3, names=('Rows', 'Cols'))\n"
     ]
    }
   ],
   "source": [
    "n = torch.zeros(2, 3, names=('Rows', 'Cols'))\n",
    "print(n)"
   ]
  },
  {
   "cell_type": "code",
   "execution_count": 7,
   "metadata": {},
   "outputs": [
    {
     "data": {
      "text/plain": [
       "('Rows', 'Cols')"
      ]
     },
     "execution_count": 7,
     "metadata": {},
     "output_type": "execute_result"
    }
   ],
   "source": [
    "n.names"
   ]
  },
  {
   "cell_type": "code",
   "execution_count": 8,
   "metadata": {},
   "outputs": [
    {
     "data": {
      "text/plain": [
       "'Rows'"
      ]
     },
     "execution_count": 8,
     "metadata": {},
     "output_type": "execute_result"
    }
   ],
   "source": [
    "n.names[0]"
   ]
  },
  {
   "cell_type": "code",
   "execution_count": 9,
   "metadata": {},
   "outputs": [
    {
     "name": "stdout",
     "output_type": "stream",
     "text": [
      "tensor([[0., 0., 0.],\n",
      "        [0., 0., 0.]], names=('A', 'B'))\n"
     ]
    }
   ],
   "source": [
    "renamed = n.rename(Rows='A', Cols='B')\n",
    "print(renamed)"
   ]
  },
  {
   "cell_type": "code",
   "execution_count": 10,
   "metadata": {},
   "outputs": [
    {
     "name": "stdout",
     "output_type": "stream",
     "text": [
      "tensor([[[[[ 0.1295, -0.4231, -0.1683, -1.4635,  0.8102],\n",
      "           [-0.7402, -0.1405,  0.9718, -0.6447,  0.6092],\n",
      "           [ 1.3711,  0.1991,  2.6805, -0.4328,  0.1540],\n",
      "           [-1.9103,  0.3980, -0.1643,  0.1843, -1.1431]],\n",
      "\n",
      "          [[-0.5340,  0.5589,  1.4689, -0.5456,  0.5031],\n",
      "           [ 0.2052, -1.3956, -0.0193,  2.4694,  0.4656],\n",
      "           [-0.3699, -1.0906,  0.8005, -0.2038, -1.7706],\n",
      "           [-0.5398, -0.7503,  0.3851, -0.8270, -1.9117]],\n",
      "\n",
      "          [[ 0.2639, -1.7436,  0.2706, -0.5953, -2.0519],\n",
      "           [-0.3586, -1.2000, -0.7615,  1.3344,  0.9340],\n",
      "           [-0.2681, -2.1388,  1.0880, -0.3716,  1.5437],\n",
      "           [ 1.5647,  0.3385,  0.6267,  0.4872,  0.6373]]],\n",
      "\n",
      "\n",
      "         [[[-1.4155,  1.1819, -0.2906, -1.0508, -0.8251],\n",
      "           [-0.7999, -0.6270, -0.4148, -0.2968, -0.2886],\n",
      "           [ 0.4178, -0.7817,  0.2318,  0.9572, -0.8588],\n",
      "           [-1.8904, -0.8284, -0.2952, -0.2851,  1.3527]],\n",
      "\n",
      "          [[ 1.3341, -0.1407, -0.9801,  0.1382,  1.1024],\n",
      "           [ 1.3774,  1.0308, -1.4664,  0.2929,  0.5003],\n",
      "           [ 0.6637,  0.7491,  0.7806,  0.1896, -0.7735],\n",
      "           [ 0.8810, -1.0288, -0.6765, -0.5270,  1.8015]],\n",
      "\n",
      "          [[-0.0569, -0.3623, -0.2982,  0.9439, -0.5940],\n",
      "           [ 0.9815,  0.2644, -0.1726, -0.4336,  0.1421],\n",
      "           [-1.2748,  0.5186, -1.5371,  0.0399,  0.3431],\n",
      "           [ 1.8512,  0.0920, -0.5166,  0.4941,  1.7119]]]]],\n",
      "       names=(None, 'A', 'B', 'C', 'D'))\n"
     ]
    }
   ],
   "source": [
    "x = torch.randn(1, 2, 3, 4, 5, names=(None, 'A', 'B', 'C', 'D'))\n",
    "print(x)"
   ]
  },
  {
   "cell_type": "code",
   "execution_count": 15,
   "metadata": {},
   "outputs": [],
   "source": [
    "a = torch.randn(4, names=('X',))\n",
    "b = torch.randn(4)\n",
    "c = torch.randn(4, names=('Y',))"
   ]
  },
  {
   "cell_type": "code",
   "execution_count": 17,
   "metadata": {},
   "outputs": [
    {
     "name": "stdout",
     "output_type": "stream",
     "text": [
      "tensor([0.6420, 1.2617, 0.2309, 0.7357], names=('X',))\n",
      "tensor([ 1.9184, -1.6670, -0.6218, -0.5244])\n",
      "tensor([-2.2145,  0.7248, -0.8774,  0.1062], names=('Y',))\n"
     ]
    }
   ],
   "source": [
    "print(a)\n",
    "print(b)\n",
    "print(c)"
   ]
  },
  {
   "cell_type": "code",
   "execution_count": 18,
   "metadata": {},
   "outputs": [
    {
     "name": "stdout",
     "output_type": "stream",
     "text": [
      "tensor([ 2.5604, -0.4053, -0.3910,  0.2113], names=('X',))\n"
     ]
    }
   ],
   "source": [
    "print(a + b)"
   ]
  },
  {
   "cell_type": "code",
   "execution_count": 19,
   "metadata": {},
   "outputs": [
    {
     "ename": "RuntimeError",
     "evalue": "Error when attempting to broadcast dims ['X'] and dims ['Y']: dim 'X' and dim 'Y' are at the same position from the right but do not match.",
     "output_type": "error",
     "traceback": [
      "\u001b[0;31m---------------------------------------------------------------------------\u001b[0m",
      "\u001b[0;31mRuntimeError\u001b[0m                              Traceback (most recent call last)",
      "\u001b[0;32m<ipython-input-19-2616b5956feb>\u001b[0m in \u001b[0;36m<module>\u001b[0;34m\u001b[0m\n\u001b[0;32m----> 1\u001b[0;31m \u001b[0mprint\u001b[0m\u001b[0;34m(\u001b[0m\u001b[0ma\u001b[0m \u001b[0;34m+\u001b[0m \u001b[0mc\u001b[0m\u001b[0;34m)\u001b[0m\u001b[0;34m\u001b[0m\u001b[0;34m\u001b[0m\u001b[0m\n\u001b[0m",
      "\u001b[0;31mRuntimeError\u001b[0m: Error when attempting to broadcast dims ['X'] and dims ['Y']: dim 'X' and dim 'Y' are at the same position from the right but do not match."
     ]
    }
   ],
   "source": [
    "print(a + c)"
   ]
  },
  {
   "cell_type": "code",
   "execution_count": 20,
   "metadata": {},
   "outputs": [
    {
     "name": "stdout",
     "output_type": "stream",
     "text": [
      "tensor([-0.2961, -0.9421, -1.4992, -0.4182], names=('Y',))\n"
     ]
    }
   ],
   "source": [
    "print(b + c)"
   ]
  }
 ],
 "metadata": {
  "kernelspec": {
   "display_name": "Python 3",
   "language": "python",
   "name": "python3"
  },
  "language_info": {
   "codemirror_mode": {
    "name": "ipython",
    "version": 3
   },
   "file_extension": ".py",
   "mimetype": "text/x-python",
   "name": "python",
   "nbconvert_exporter": "python",
   "pygments_lexer": "ipython3",
   "version": "3.8.5"
  }
 },
 "nbformat": 4,
 "nbformat_minor": 4
}
