{
 "cells": [
  {
   "cell_type": "code",
   "execution_count": 2,
   "metadata": {},
   "outputs": [],
   "source": [
    "import csv\n",
    "import torch\n",
    "import numpy as np"
   ]
  },
  {
   "cell_type": "code",
   "execution_count": 1,
   "metadata": {},
   "outputs": [],
   "source": [
    "# !wget https://archive.ics.uci.edu/ml/machine-learning-databases/wine-quality/winequality-red.csv\n",
    "# !wget https://archive.ics.uci.edu/ml/machine-learning-databases/wine-quality/winequality-white.csv"
   ]
  },
  {
   "cell_type": "code",
   "execution_count": 3,
   "metadata": {},
   "outputs": [],
   "source": [
    "kwargs = dict(delimiter=';', dtype=np.float32, skiprows=1)\n",
    "red_np = np.loadtxt('winequality-red.csv', **kwargs)\n",
    "white_np = np.loadtxt('winequality-white.csv', **kwargs)\n",
    "\n",
    "wine_numpy = np.vstack((red_np, white_np))"
   ]
  },
  {
   "cell_type": "code",
   "execution_count": 4,
   "metadata": {},
   "outputs": [],
   "source": [
    "wine_tensor = torch.from_numpy(wine_numpy)"
   ]
  },
  {
   "cell_type": "code",
   "execution_count": 6,
   "metadata": {},
   "outputs": [],
   "source": [
    "# Means by column\n",
    "data_mean = torch.mean(wine_tensor, dim=0)"
   ]
  },
  {
   "cell_type": "code",
   "execution_count": 8,
   "metadata": {},
   "outputs": [
    {
     "name": "stdout",
     "output_type": "stream",
     "text": [
      "tensor([7.2153e+00, 3.3967e-01, 3.1863e-01, 5.4432e+00, 5.6034e-02, 3.0525e+01,\n",
      "        1.1574e+02, 9.9470e-01, 3.2185e+00, 5.3127e-01, 1.0492e+01, 5.8184e+00])\n"
     ]
    }
   ],
   "source": [
    "print(data_mean)"
   ]
  },
  {
   "cell_type": "code",
   "execution_count": 7,
   "metadata": {},
   "outputs": [],
   "source": [
    "# Variances by column\n",
    "data_var = torch.var(wine_tensor, dim=0)"
   ]
  },
  {
   "cell_type": "code",
   "execution_count": 9,
   "metadata": {},
   "outputs": [
    {
     "name": "stdout",
     "output_type": "stream",
     "text": [
      "tensor([1.6807e+00, 2.7105e-02, 2.1117e-02, 2.2637e+01, 1.2274e-03, 3.1504e+02,\n",
      "        3.1947e+03, 8.9920e-06, 2.5853e-02, 2.2143e-02, 1.4226e+00, 7.6257e-01])\n"
     ]
    }
   ],
   "source": [
    "print(data_var)"
   ]
  },
  {
   "cell_type": "code",
   "execution_count": 12,
   "metadata": {},
   "outputs": [
    {
     "name": "stdout",
     "output_type": "stream",
     "text": [
      "tensor([[ 7.4000,  0.7000,  0.0000,  ...,  0.5600,  9.4000,  5.0000],\n",
      "        [ 7.8000,  0.8800,  0.0000,  ...,  0.6800,  9.8000,  5.0000],\n",
      "        [ 7.8000,  0.7600,  0.0400,  ...,  0.6500,  9.8000,  5.0000],\n",
      "        ...,\n",
      "        [ 6.5000,  0.2400,  0.1900,  ...,  0.4600,  9.4000,  6.0000],\n",
      "        [ 5.5000,  0.2900,  0.3000,  ...,  0.3800, 12.8000,  7.0000],\n",
      "        [ 6.0000,  0.2100,  0.3800,  ...,  0.3200, 11.8000,  6.0000]])\n"
     ]
    }
   ],
   "source": [
    "print(wine_tensor)"
   ]
  },
  {
   "cell_type": "code",
   "execution_count": 10,
   "metadata": {},
   "outputs": [],
   "source": [
    "wine_norm = (wine_tensor - data_mean)/torch.sqrt(data_var)"
   ]
  },
  {
   "cell_type": "code",
   "execution_count": 11,
   "metadata": {},
   "outputs": [
    {
     "data": {
      "text/plain": [
       "tensor([[ 0.1425,  2.1887, -2.1927,  ...,  0.1931, -0.9154, -0.9372],\n",
       "        [ 0.4510,  3.2820, -2.1927,  ...,  0.9995, -0.5800, -0.9372],\n",
       "        [ 0.4510,  2.5531, -1.9174,  ...,  0.7979, -0.5800, -0.9372],\n",
       "        ...,\n",
       "        [-0.5517, -0.6054, -0.8852,  ..., -0.4789, -0.9154,  0.2080],\n",
       "        [-1.3231, -0.3017, -0.1282,  ..., -1.0165,  1.9353,  1.3531],\n",
       "        [-0.9374, -0.7876,  0.4223,  ..., -1.4198,  1.0968,  0.2080]])"
      ]
     },
     "execution_count": 11,
     "metadata": {},
     "output_type": "execute_result"
    }
   ],
   "source": [
    "wine_norm"
   ]
  }
 ],
 "metadata": {
  "kernelspec": {
   "display_name": "Python 3",
   "language": "python",
   "name": "python3"
  },
  "language_info": {
   "codemirror_mode": {
    "name": "ipython",
    "version": 3
   },
   "file_extension": ".py",
   "mimetype": "text/x-python",
   "name": "python",
   "nbconvert_exporter": "python",
   "pygments_lexer": "ipython3",
   "version": "3.8.5"
  }
 },
 "nbformat": 4,
 "nbformat_minor": 4
}
